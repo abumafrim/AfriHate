{
  "nbformat": 4,
  "nbformat_minor": 0,
  "metadata": {
    "colab": {
      "provenance": [],
      "mount_file_id": "1onAlFHwqbOeoYG3-RDmWDAs9bg_oz-L4",
      "authorship_tag": "ABX9TyOjjQzbWd9tMeagQGyuqVZz",
      "include_colab_link": true
    },
    "kernelspec": {
      "name": "python3",
      "display_name": "Python 3"
    },
    "language_info": {
      "name": "python"
    }
  },
  "cells": [
    {
      "cell_type": "markdown",
      "metadata": {
        "id": "view-in-github",
        "colab_type": "text"
      },
      "source": [
        "<a href=\"https://colab.research.google.com/github/abumafrim/sampler-afrihate/blob/main/AfriHate_Data_Sampler.ipynb\" target=\"_parent\"><img src=\"https://colab.research.google.com/assets/colab-badge.svg\" alt=\"Open In Colab\"/></a>"
      ]
    },
    {
      "cell_type": "code",
      "source": [
        "!git clone https://github.com/abumafrim/sampler-afrihate.git"
      ],
      "metadata": {
        "colab": {
          "base_uri": "https://localhost:8080/"
        },
        "id": "yuHbdvTRWxwq",
        "outputId": "fc9d3784-bfa9-4ad1-ec77-e93b593594e1"
      },
      "execution_count": 53,
      "outputs": [
        {
          "output_type": "stream",
          "name": "stdout",
          "text": [
            "Cloning into 'sampler-afrihate'...\n",
            "remote: Enumerating objects: 9, done.\u001b[K\n",
            "remote: Counting objects: 100% (9/9), done.\u001b[K\n",
            "remote: Compressing objects: 100% (7/7), done.\u001b[K\n",
            "remote: Total 9 (delta 1), reused 5 (delta 0), pack-reused 0\u001b[K\n",
            "Unpacking objects: 100% (9/9), 2.48 KiB | 1.24 MiB/s, done.\n"
          ]
        }
      ]
    },
    {
      "cell_type": "code",
      "source": [
        "%cd sampler-afrihate"
      ],
      "metadata": {
        "colab": {
          "base_uri": "https://localhost:8080/"
        },
        "id": "OpomaJy5lMbt",
        "outputId": "f81e655b-f392-4734-d854-45b345451bed"
      },
      "execution_count": 54,
      "outputs": [
        {
          "output_type": "stream",
          "name": "stdout",
          "text": [
            "/content/sampler-afrihate\n"
          ]
        }
      ]
    },
    {
      "cell_type": "code",
      "source": [
        "!python sample.py -i /content/drive/MyDrive/AfriHate_Shared_Files/tweets-collection/Hausa/hausa_offensive_all.csv \\\n",
        "  -o '/content' \\\n",
        "  -t fraction \\\n",
        "  -n .25 \\\n",
        "  --sample_keywords \\\n",
        "  -s ../keywords.txt \\\n",
        "  --sample_periods \\\n",
        "  -p '[\"2021-10:2021-11\"]'. # e.g. ['2022-05-30:2022-05-31', '2022-06:2022-07', '2022-04']"
      ],
      "metadata": {
        "colab": {
          "base_uri": "https://localhost:8080/"
        },
        "id": "nW3nGkNglRPx",
        "outputId": "9cdb389a-be03-44c6-de8d-e46da233eb13"
      },
      "execution_count": 66,
      "outputs": [
        {
          "output_type": "stream",
          "name": "stdout",
          "text": [
            "number of tweets: 119648\n",
            "number of tweets to be sampled: 25.0% of all tweets\n",
            "keywords: ['banza', 'iska']\n",
            "periods ['2021-10:2021-11']\n",
            "saved 154 sampled tweets in /content/sampled_tweets.csv\n"
          ]
        }
      ]
    }
  ]
}