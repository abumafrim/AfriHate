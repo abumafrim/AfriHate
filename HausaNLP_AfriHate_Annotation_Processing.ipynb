{
  "nbformat": 4,
  "nbformat_minor": 0,
  "metadata": {
    "colab": {
      "provenance": [],
      "mount_file_id": "1AgoE440aiiCCfcBwrQYy7vdq_Q4iXlG7",
      "authorship_tag": "ABX9TyOTL2wZunglYDbv8hZ+trrU",
      "include_colab_link": true
    },
    "kernelspec": {
      "name": "python3",
      "display_name": "Python 3"
    },
    "language_info": {
      "name": "python"
    }
  },
  "cells": [
    {
      "cell_type": "markdown",
      "metadata": {
        "id": "view-in-github",
        "colab_type": "text"
      },
      "source": [
        "<a href=\"https://colab.research.google.com/github/abumafrim/AfriHate/blob/main/HausaNLP_AfriHate_Annotation_Processing.ipynb\" target=\"_parent\"><img src=\"https://colab.research.google.com/assets/colab-badge.svg\" alt=\"Open In Colab\"/></a>"
      ]
    },
    {
      "cell_type": "code",
      "source": [
        "%cd /content/drive/MyDrive/AfriHate_Shared_Files"
      ],
      "metadata": {
        "colab": {
          "base_uri": "https://localhost:8080/"
        },
        "id": "FJlneFLgF1Xy",
        "outputId": "e53b3aaf-71c1-4fff-85b7-f1a05aaf3817"
      },
      "execution_count": 1,
      "outputs": [
        {
          "output_type": "stream",
          "name": "stdout",
          "text": [
            "/content/drive/MyDrive/AfriHate_Shared_Files\n"
          ]
        }
      ]
    },
    {
      "cell_type": "code",
      "source": [
        "!python AfriHate-Docs/scripts/process_annotations_hausanlp.py \\\n",
        "  -i data/annotated_tweets/hausa/batch-1/annotations.csv \\\n",
        "  -o data/annotated_tweets/hausa/batch-1/ \\\n",
        "  --id_column id \\\n",
        "  --count_agreements \\\n",
        "  --majority_sentiment \\\n",
        "  --remove_empty_annotations \\\n",
        "  --calculate_cohens_kappa \\\n",
        "  --calculate_randolphs_kappa \\\n",
        "  --process_hate_targets\n",
        "\n",
        "  #--anonymise_annotators \\\n",
        "  #--remove_annotators 'aminanasiriro01@gmail.com' \\"
      ],
      "metadata": {
        "colab": {
          "base_uri": "https://localhost:8080/"
        },
        "id": "9zfhDNAdIRmY",
        "outputId": "a64bef09-1cfc-4165-d13e-6de013200b4e"
      },
      "execution_count": 4,
      "outputs": [
        {
          "output_type": "stream",
          "name": "stdout",
          "text": [
            "Traceback (most recent call last):\n",
            "  File \"/content/drive/MyDrive/AfriHate_Shared_Files/AfriHate-Docs/scripts/process_annotations_hausanlp.py\", line 99, in <module>\n",
            "    assert not os.path.isfile(os.path.join(args.output, 'processed_annotations.tsv')), \"'processed_annotations.tsv' already exists, provide another output directory (-o) or delete the processed file\"\n",
            "AssertionError: 'processed_annotations.tsv' already exists, provide another output directory (-o) or delete the processed file\n"
          ]
        }
      ]
    }
  ]
}